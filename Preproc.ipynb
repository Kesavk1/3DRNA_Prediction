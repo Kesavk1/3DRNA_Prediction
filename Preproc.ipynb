# File paths
DATA_DIR = "/kaggle/input/stanford-rna-3d-folding/"
OUTPUT_DIR = "/kaggle/working/"
os.makedirs(OUTPUT_DIR, exist_ok=True)

def normalize_structure(coords):
    """
    Centralizes and normalizes the structure.
    """
    # Remove padding
    valid_mask = ~np.all(coords == 0, axis=1)
    valid_coords = coords[valid_mask]
    
    # Center at center of mass
    center = np.mean(valid_coords, axis=0)
    centered_coords = coords.copy()
    centered_coords[valid_mask] = valid_coords - center
    
    return centered_coords

def normalize_coordinates(coords):
    """
    Normalizes 3D coordinates of RNA structures by centering and 
    scaling each structure independently, with robust handling
    to avoid numerical issues.
    
    Parameters:
    -----------
    coords: Numpy array with shape (batch_size, seq_length, 3)
        3D coordinates to normalize
    
    Returns:
    --------
    normalized: Numpy array with shape (batch_size, seq_length, 3)
        Normalized coordinates in the range [-1, 1]  
    """
    # Create copy to avoid modifying the original
    normalized = np.copy(coords)
    
    # Check for problematic values upfront
    if np.isnan(coords).any():
        print("WARNING: NaN values detected in input coordinates. They will be ignored during normalization.")
    if np.isinf(coords).any():
        print("WARNING: Infinite values detected in input coordinates. They will be ignored during normalization.")
    
    # Handle each structure in the batch separately
    for i in range(coords.shape[0]):
        # Identify valid positions (non-zero, non-NaN, non-Inf)
        valid_mask = ~np.all(coords[i] == 0, axis=-1)  
        valid_mask = valid_mask & ~np.any(np.isnan(coords[i]), axis=-1)
        valid_mask = valid_mask & ~np.any(np.isinf(coords[i]), axis=-1)
        
        # Extract only valid coordinates
        valid_coords = coords[i][valid_mask]
        
        if len(valid_coords) > 0:
            try:
                # 1. Center at the geometric center
                center = np.nanmean(valid_coords, axis=0)
                
                # Check if the calculated center contains valid values  
                if np.isnan(center).any() or np.isinf(center).any():
                    print(f"WARNING: Invalid center calculated for structure {i}. Using [0,0,0].")
                    center = np.zeros(3)
                
                # Apply translation to the center
                centered = valid_coords - center
                
                # 2. Determine appropriate scale factor
                # Calculate maximum distance from the center
                dist_from_center = np.sqrt(np.sum(centered * centered, axis=1))
                
                # Exclude NaN or infinite values for scale_factor calculation
                valid_dists = dist_from_center[~np.isnan(dist_from_center) & ~np.isinf(dist_from_center)]
                
                if len(valid_dists) > 0:
                    scale_factor = np.max(valid_dists)
                    # Protect against very small scale_factor
                    if scale_factor < 1e-10:
                        scale_factor = 1.0
                else:
                    scale_factor = 1.0
                
                # 3. Normalize coordinates to [-1, 1] range
                normalized_valid = centered / scale_factor
                
                # 4. Replace values in the normalized array
                normalized[i][valid_mask] = normalized_valid
                
                # Debug info
                # print(f"Structure {i}: center={center}, scale_factor={scale_factor}, "  
                #       f"min={np.min(normalized_valid)}, max={np.max(normalized_valid)}")
            
            except Exception as e:
                print(f"ERROR during normalization of structure {i}: {str(e)}")
                print("Keeping original values for this structure.")
        else:
            print(f"WARNING: No valid coordinates found for structure {i}.")
    
    # Final check to detect any issues
    if np.isnan(normalized).any():
        print("WARNING: NaN values present after normalization. Replacing with zeros.")
        normalized = np.nan_to_num(normalized, nan=0.0)
    
    if np.isinf(normalized).any():
        print("WARNING: Infinite values present after normalization. Replacing with zeros.") 
        normalized = np.nan_to_num(normalized, posinf=0.0, neginf=0.0)
    
    return normalized

def check_structure_validity(coords, min_distance=0.8, max_distance=7.0, allow_clashes=0.05):
    """
    More refined and realistic biophysical validation.
    """
    valid = True
    valid_mask = ~np.all(coords == 0, axis=1)
    valid_coords = coords[valid_mask]
    
    if len(valid_coords) < 3:
        return True
    
    # Check distances between consecutive residues
    invalid_bonds = 0
    for i in range(1, len(valid_coords)):
        dist = np.linalg.norm(valid_coords[i] - valid_coords[i-1])
        if dist < min_distance or dist > max_distance:
            invalid_bonds += 1
    
    # Allow a small percentage of invalid bonds
    if invalid_bonds / len(valid_coords) > 0.1:  # More than 10% invalid bonds
        valid = False
    
    # Check for clashes, allowing some
    clashes = 0
    total_pairs = 0
    for i in range(len(valid_coords)):
        for j in range(i+3, len(valid_coords)):  # Skip adjacent
            total_pairs += 1
            dist = np.linalg.norm(valid_coords[i] - valid_coords[j])
            if dist < min_distance:
                clashes += 1
    
    # Allow a small percentage of clashes
    if total_pairs > 0 and clashes / total_pairs > allow_clashes:
        valid = False
    
    return valid
