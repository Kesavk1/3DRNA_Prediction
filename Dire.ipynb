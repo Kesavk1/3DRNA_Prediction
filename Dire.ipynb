#Updated main directory
dir_main = "/kaggle/input/stanford-rna-3d-folding/"

# List all files and directories in the main directory
try:
    all_files = os.listdir(dir_main)
    print(f"All files and directories in '{dir_main}':")
    
    for file in all_files:
        # Check if it's a file or directory
        full_path = os.path.join(dir_main, file)
        type_desc = "directory" if os.path.isdir(full_path) else "file"
        size = os.path.getsize(full_path) / 1024  # Size in KB
        print(f" - {file} ({type_desc}, {size:.2f} KB)")
        
        # If it's a directory, list up to 5 files inside it
        if os.path.isdir(full_path):
            try:
                internal_files = os.listdir(full_path)[:5]  # Limit to 5 files
                if internal_files:
                    print(f"   First files in '{file}':")
                    for internal_file in internal_files:
                        print(f"    * {internal_file}")
                    if len(os.listdir(full_path)) > 5:
                        print(f"    * ... and {len(os.listdir(full_path)) - 5} more file(s)")
                else:
                    print(f"   '{file}' is empty")
            except Exception as e:
                print(f"   Error listing contents of '{file}': {e}")
except Exception as e:
    print(f"Error listing directory {dir_main}: {e}")

# Check the structure of the main CSV files
main_files = [
    "train_sequences.csv", 
    "train_labels.csv", 
    "validation_sequences.csv", 
    "validation_labels.csv", 
    "test_sequences.csv",
    "sample_submission.csv"
]
print("\nChecking main CSV files:")

for file in main_files:
    full_path = os.path.join(dir_main, file)
    if os.path.exists(full_path):
        # Get file size
        size_mb = os.path.getsize(full_path) / (1024 * 1024)  # Size in MB
        
        # Read the first lines to check the structure
        try:
            import pandas as pd
            df = pd.read_csv(full_path, nrows=1)
            print(f"\n{file} ({size_mb:.2f} MB):")
            print(f"Columns: {df.columns.tolist()}")
            print(f"Example:")
            print(df.head())
        except Exception as e:
            print(f"Error reading {file}: {e}")
    else:
        print(f"{file} not found.")
